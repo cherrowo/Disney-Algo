{
  "nbformat": 4,
  "nbformat_minor": 0,
  "metadata": {
    "colab": {
      "provenance": [],
      "authorship_tag": "ABX9TyMpJJNErBo9stb1liO2j7Bt",
      "include_colab_link": true
    },
    "kernelspec": {
      "name": "python3",
      "display_name": "Python 3"
    },
    "language_info": {
      "name": "python"
    }
  },
  "cells": [
    {
      "cell_type": "markdown",
      "metadata": {
        "id": "view-in-github",
        "colab_type": "text"
      },
      "source": [
        "<a href=\"https://colab.research.google.com/github/cherrowo/Disney-Algo/blob/main/GENETIC_ALGO_V2.ipynb\" target=\"_parent\"><img src=\"https://colab.research.google.com/assets/colab-badge.svg\" alt=\"Open In Colab\"/></a>"
      ]
    },
    {
      "cell_type": "code",
      "execution_count": null,
      "metadata": {
        "id": "--R_VjU-vk9E"
      },
      "outputs": [],
      "source": [
        "import pandas as pd\n",
        "import random\n",
        "import numpy as np\n",
        "\n",
        "data = pd.read_csv(\"Values for Disney Map - Nodes.csv\")\n",
        "adj_matrix = pd.read_csv(\"Values for Disney Map - FINAL AM(travel + wait for food + ride).csv\", header=None).values\n",
        "\n",
        "nodes = data['Node ID'].values\n",
        "types = data['Type'].values\n",
        "ratings = data['Attraction Rating (?/5)'].values\n",
        "wait_times = data['Waiting Time'].values\n",
        "durations = data['Duration of Experience'].values\n",
        "normalized_wait_times = data['Normalized_wait time'].values\n"
      ]
    },
    {
      "cell_type": "code",
      "source": [
        "\n",
        "def calculate_time(solution):\n",
        "  total_time = 0\n",
        "  for i in range(len(solution) - 1):\n",
        "        current_node = solution[i]\n",
        "        next_node = solution[i+1]\n",
        "\n",
        "        current_index = np.where(nodes == current_node)[0][0]\n",
        "        next_index = np.where(nodes == next_node)[0][0]\n",
        "\n",
        "        travel_time = adj_matrix[current_index][next_index]\n",
        "\n",
        "        total_time += travel_time + durations[current_index] + normalized_wait_times[current_index]\n",
        "  return total_time\n",
        "\n",
        "def calculate_fitness(solution):\n",
        "    \"\"\"Calculates the number of rides visited for a given solution.\"\"\"\n",
        "    # Ensure the solution starts and ends at node 0\n",
        "    if solution[0] != nodes[0] or solution[-1] != nodes[0]:\n",
        "        return 0  # Penalize invalid solutions\n",
        "\n",
        "    total_time = calculate_time(solution)\n",
        "    if total_time > 780:\n",
        "        return 0 # Penalize itineraries that exceed the time limit\n",
        "\n",
        "    # Count the number of unique rides visited (excluding the entrance/exit)\n",
        "    return len(set(solution[1:-1]))\n",
        "\n",
        "def generate_initial_population(population_size, num_rides):\n",
        "    population = []\n",
        "    for _ in range(population_size):\n",
        "        solution = [nodes[0]]  # Start at node 0\n",
        "        remaining_rides = list(nodes[1:])\n",
        "        random.shuffle(remaining_rides)\n",
        "        solution.extend(remaining_rides[:num_rides - 1])\n",
        "        solution.append(nodes[0]) # End at node 0\n",
        "        population.append(solution)\n",
        "    return population\n",
        "\n",
        "\n",
        "def mutate(solution):\n",
        "    idx1, idx2 = random.sample(range(1, len(solution) - 1), 2)  # Exclude the entrance/exit nodes\n",
        "    solution[idx1], solution[idx2] = solution[idx2], solution[idx1]\n",
        "    return solution\n",
        "\n",
        "\n",
        "def crossover(parent1, parent2):\n",
        "    crossover_point = random.randint(1, len(parent1) - 2)\n",
        "    child = parent1[:crossover_point] + [item for item in parent2 if item not in parent1[:crossover_point] and item != nodes[0]][:len(parent1) - len(parent1[:crossover_point])]\n",
        "    child.append(nodes[0]) #Ensure end at node 0\n",
        "    return child\n",
        "\n",
        "\n",
        "def genetic_algorithm(population_size=50, generations=100, mutation_rate=0.1, num_rides=10):\n",
        "    population = generate_initial_population(population_size, num_rides)\n",
        "    best_solution = None\n",
        "    best_fitness = 0\n",
        "\n",
        "    for generation in range(generations):\n",
        "        fitness_scores = [calculate_fitness(solution) for solution in population]\n",
        "\n",
        "        best_solution_idx = np.argmax(fitness_scores) #Find max fitness\n",
        "        if fitness_scores[best_solution_idx] > best_fitness:\n",
        "            best_fitness = fitness_scores[best_solution_idx]\n",
        "            best_solution = population[best_solution_idx]\n",
        "\n",
        "        new_population = []\n",
        "        for _ in range(population_size):\n",
        "            parent1 = random.choices(population, weights=fitness_scores, k=1)[0]\n",
        "            parent2 = random.choices(population, weights=fitness_scores, k=1)[0]\n",
        "            child = crossover(parent1, parent2)\n",
        "\n",
        "            if random.random() < mutation_rate:\n",
        "                child = mutate(child)\n",
        "            new_population.append(child)\n",
        "        population = new_population\n",
        "    print(\"Optimal solution:\", best_solution)\n",
        "    print(\"Number of rides visited:\", best_fitness)\n",
        "    print(\"Total time:\", calculate_time(best_solution))\n",
        "    return best_solution, best_fitness"
      ],
      "metadata": {
        "id": "gnJrM73fKmwn"
      },
      "execution_count": null,
      "outputs": []
    },
    {
      "cell_type": "code",
      "source": [
        "best_solution, best_fitness = genetic_algorithm()"
      ],
      "metadata": {
        "colab": {
          "base_uri": "https://localhost:8080/"
        },
        "id": "k6cdQI3s4pnQ",
        "outputId": "603f58b8-ac76-4836-f990-1ae226ab8999"
      },
      "execution_count": null,
      "outputs": [
        {
          "output_type": "stream",
          "name": "stdout",
          "text": [
            "Optimal solution: [0, 10, 5, 18, 58, 33, 62, 6, 1, 67, 38, 25, 45, 27, 9, 3, 46, 63, 19, 61, 0]\n",
            "Number of rides visited: 19\n",
            "Total time: 741.05374592828\n"
          ]
        }
      ]
    },
    {
      "cell_type": "code",
      "source": [
        "calculate_time(best_solution)"
      ],
      "metadata": {
        "colab": {
          "base_uri": "https://localhost:8080/"
        },
        "id": "4qRow-dvIOPU",
        "outputId": "8da2654a-9ce5-4cd5-d001-d36b071d08d2"
      },
      "execution_count": null,
      "outputs": [
        {
          "output_type": "execute_result",
          "data": {
            "text/plain": [
              "741.05374592828"
            ]
          },
          "metadata": {},
          "execution_count": 84
        }
      ]
    },
    {
      "cell_type": "code",
      "source": [
        "attraction_info = []\n",
        "\n",
        "for node_id in best_solution:\n",
        "    # Find the index of the node in the original dataframe\n",
        "    node_index = data[data['Node ID'] == node_id].index[0]\n",
        "\n",
        "    # Extract attraction name and type\n",
        "    attraction_name = data.loc[node_index, 'Title']\n",
        "    attraction_type = data.loc[node_index, 'Type']\n",
        "\n",
        "    attraction_info.append((attraction_name, attraction_type))\n",
        "\n",
        "print(\"\\nAttraction Name and Type for the Best Solution:\")\n",
        "for name, type_ in attraction_info:\n",
        "    print(f\"{name}, Type: {type_}\")"
      ],
      "metadata": {
        "colab": {
          "base_uri": "https://localhost:8080/"
        },
        "id": "epZkTHpj5kqU",
        "outputId": "fc5cb26c-02a4-48f6-99a1-ca20c6c6c172"
      },
      "execution_count": null,
      "outputs": [
        {
          "output_type": "stream",
          "name": "stdout",
          "text": [
            "\n",
            "Attraction Name and Type for the Best Solution:\n",
            "Walt Disney World Railroad 1, Type: attraction\n",
            "Jungle Cruise, Type: attraction\n",
            "Plaza Ice Cream Parlor, Type: food\n",
            "Walt Disney World Railroad 2, Type: attraction\n",
            "TRON Lightcycle/Run, Type: attraction\n",
            "Prince Charming Regal Carousel, Type: attraction\n",
            "Walt Disney's Carousel of Progress, Type: attraction\n",
            "Main Street Bakery, Type: food\n",
            "Town Square Theatre, Type: attraction\n",
            "Cool Ship, Type: food\n",
            "Under the Sea Journey of the Little Mermaid, Type: attraction\n",
            "The Hall of Presidents, Type: attraction\n",
            "Meet Merida at Fairytale Garden, Type: attraction\n",
            "Haunted Mansion, Type: attraction\n",
            "The Magic Carpets of Aladdin, Type: attraction\n",
            "The Crystal Palace, Type: food\n",
            "The Many Adventures of Winnie the Pooh, Type: attraction\n",
            "Buzz Lightyear's Space Ranger Spin, Type: attraction\n",
            "Big Thunder Mountain Railroad, Type: attraction\n",
            "Tomorrowland Transit Authority Peoplemover, Type: attraction\n",
            "Walt Disney World Railroad 1, Type: attraction\n"
          ]
        }
      ]
    }
  ]
}